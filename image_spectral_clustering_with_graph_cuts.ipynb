{
  "nbformat": 4,
  "nbformat_minor": 0,
  "metadata": {
    "colab": {
      "name": "image spectral clustering with graph cuts.ipynb",
      "version": "0.3.2",
      "provenance": [],
      "collapsed_sections": [],
      "toc_visible": true
    },
    "kernelspec": {
      "name": "python3",
      "display_name": "Python 3"
    }
  },
  "cells": [
    {
      "cell_type": "markdown",
      "metadata": {
        "id": "FN8rgxLyUouz",
        "colab_type": "text"
      },
      "source": [
        "## Demystifying spectral clustering with graph cuts for unsupervised image segmentation\n",
        "\n",
        "### References: \n",
        "\n",
        "[1] https://people.eecs.berkeley.edu/~malik/papers/SM-ncut.pdf\n",
        "\n",
        "[2] http://citeseerx.ist.psu.edu/viewdoc/download?doi=10.1.1.165.9323&rep=rep1&type=pdf"
      ]
    },
    {
      "cell_type": "code",
      "metadata": {
        "id": "oX3WgExgUtbS",
        "colab_type": "code",
        "outputId": "5f330d15-bd49-4915-d2fd-fcaec6d1b3bb",
        "colab": {
          "base_uri": "https://localhost:8080/",
          "height": 35
        }
      },
      "source": [
        "import numpy as np \n",
        "import matplotlib as plt\n",
        "from scipy import misc\n",
        "from skimage.transform import resize\n",
        "import matplotlib.pyplot as plt \n",
        "from numpy import linalg as LA\n",
        "from scipy.sparse import csgraph\n",
        "import networkx as nx\n",
        "from sklearn.feature_extraction.image import img_to_graph\n",
        "from sklearn.cluster import spectral_clustering\n",
        "print('DONE')"
      ],
      "execution_count": 31,
      "outputs": [
        {
          "output_type": "stream",
          "text": [
            "DONE\n"
          ],
          "name": "stdout"
        }
      ]
    },
    {
      "cell_type": "markdown",
      "metadata": {
        "id": "VZoJGL0uU6hi",
        "colab_type": "text"
      },
      "source": [
        "## Helper functions"
      ]
    },
    {
      "cell_type": "code",
      "metadata": {
        "id": "9CjZ_x-oU5wL",
        "colab_type": "code",
        "colab": {}
      },
      "source": [
        "def find_eig_critical(eigVal):\n",
        "  \"\"\"\n",
        "  finds minimum non-zero eigenvalue\n",
        "  \"\"\"\n",
        "  min_val = 2.1\n",
        "  for count,i in enumerate(eigVal):\n",
        "    if ( i<min_val and i>0.0001):\n",
        "      min_val = i\n",
        "      pos = count\n",
        "  return min_val,pos \n",
        "\n",
        "def im2graph(img):\n",
        "  \"\"\"\n",
        "  Custom greyscale image to graph.\n",
        "  Does not work very well! \n",
        "  \"\"\"\n",
        "  lx,ly = img.shape\n",
        "  size  = lx*ly\n",
        "  W = np.zeros( (size,size) )\n",
        "  r = 10\n",
        "  s_i = 1\n",
        "  s_s = 6\n",
        "  counter = 0\n",
        "  for i1 in range(lx):\n",
        "    for j1 in range(ly):\n",
        "      list = []\n",
        "      for i2 in range(lx):\n",
        "        for j2 in range(ly):\n",
        "          if ( (abs(i1-i2)+abs(j1-j2))< r  ): #1st norm\n",
        "            intens = LA.norm( [ img[i1,j1],img[i2,j2] ] , 2 )\n",
        "            spat =  LA.norm( [  (i1-i2), (j1-j2) ] , 2)\n",
        "            intens = np.exp(-1*intens/s_i)\n",
        "            spat = np.exp(-1*spat/s_s)\n",
        "            w = intens*spat\n",
        "          else:\n",
        "            w=0\n",
        "          list.append(w)\n",
        "      W[counter,:] = list\n",
        "      counter += 1\n",
        "      \n",
        "  return W\n",
        "\n",
        "def segment_image(img, eigvec):\n",
        "  \"\"\"\n",
        "  Binary image segmentation based on the values of  the critical eigenvector.\n",
        "  The latter is the one that corresponds to the minimum non-zero eigenvalue.\n",
        "  Intuitively, it is the lowest frequency of the image!\n",
        "  \"\"\"\n",
        "  lx,ly = img.shape\n",
        "  mask = np.ones( eigvec.shape)\n",
        "  for c,i in enumerate(eigvec):\n",
        "    prev = eigvec[c]\n",
        "    if (i>0.0001):\n",
        "      mask[c] = 0\n",
        "  \n",
        "  mask2 = np.reshape( mask , (lx,ly) )\n",
        "  new_img = np.multiply( img ,mask2  ) # element wise mulitplication\n",
        "  return new_img"
      ],
      "execution_count": 0,
      "outputs": []
    },
    {
      "cell_type": "markdown",
      "metadata": {
        "id": "GUBYwJz4VucM",
        "colab_type": "text"
      },
      "source": [
        "# Main Code"
      ]
    },
    {
      "cell_type": "markdown",
      "metadata": {
        "id": "4pXyU2WBcd8d",
        "colab_type": "text"
      },
      "source": [
        "## 1. Load and rescale Image"
      ]
    },
    {
      "cell_type": "code",
      "metadata": {
        "id": "EwHEUH9EVwQ4",
        "colab_type": "code",
        "colab": {}
      },
      "source": [
        "#Parameters\n",
        "re_size = 64 # downsampling of resized rectangular image \n",
        "\n",
        "f = misc.face(gray=True)  # retrieve a grayscale image\n",
        "f = resize(f, (re_size, re_size))"
      ],
      "execution_count": 0,
      "outputs": []
    },
    {
      "cell_type": "markdown",
      "metadata": {
        "id": "BjBWzFyLco-b",
        "colab_type": "text"
      },
      "source": [
        "## 2. Convert Image to Adjecency Matrix (weighted graph)\n",
        "\n",
        "Convert the image into a graph with the value of the gradient on the edges.\n",
        "graph = image.img_to_graph(img)\n",
        "\n",
        "Take a decreasing function of the gradient: we take it weakly dependant from the gradient the segmentation is close to a voronoi"
      ]
    },
    {
      "cell_type": "code",
      "metadata": {
        "id": "MCDisT6FcthR",
        "colab_type": "code",
        "colab": {}
      },
      "source": [
        "W1 = img_to_graph(f, return_as=np.ndarray) # gradient weighted\n",
        "W1 = np.exp(-W1 / W1.std())\n",
        "\n",
        "\n",
        "W2 = im2graph(f) # spatial location and intensity-based weighted"
      ],
      "execution_count": 0,
      "outputs": []
    },
    {
      "cell_type": "markdown",
      "metadata": {
        "id": "86SvrUZ_cxmK",
        "colab_type": "text"
      },
      "source": [
        "## 3. Calculate Laplacian"
      ]
    },
    {
      "cell_type": "code",
      "metadata": {
        "id": "Guyrbu4ncwwJ",
        "colab_type": "code",
        "outputId": "3712183b-aac9-4eea-aad8-e6ab619d68ba",
        "colab": {
          "base_uri": "https://localhost:8080/",
          "height": 35
        }
      },
      "source": [
        "## 1. Using csgraph\n",
        "Lapl_1 =  csgraph.laplacian(W1, normed=True) \n",
        "print(Lapl_1.shape)\n",
        "\n",
        "## 2. Using networkx\n",
        "G = nx.from_numpy_matrix(W1)\n",
        "Lapl_2 = nx.normalized_laplacian_matrix(G)\n",
        "Lapl_2b = nx.laplacian_matrix(G)\n",
        "print(Lapl_2.shape)\n",
        "\n",
        "\n",
        "## 3. Doing the math --> https://en.wikipedia.org/wiki/Laplacian_matrix\n",
        "D = (np.diag(np.power(W1.sum(axis=1), -0.5)))\n",
        "k = re_size*re_size\n",
        "Lapl_3 = np.ones(k) - np.matmul(np.matmul(D, W1), D) \n",
        "Lapl_4 = D - W1\n",
        "print(Lapl_3.shape)\n",
        "\n",
        "\n",
        "\n",
        "print(np.sum(Lapl_1-Lapl_2)) # both works great!\n",
        "print(np.sum(Lapl_1-Lapl_3))\n",
        "print(np.sum(Lapl_1-Lapl_3))\n",
        "print(np.sum(Lapl_2-Lapl_3))"
      ],
      "execution_count": 0,
      "outputs": [
        {
          "output_type": "stream",
          "text": [
            "(4096, 4096)\n"
          ],
          "name": "stdout"
        }
      ]
    },
    {
      "cell_type": "markdown",
      "metadata": {
        "id": "oCJn22tDc678",
        "colab_type": "text"
      },
      "source": [
        "## 4. Eigenanalysis on normalized Laplacian\n",
        "\n",
        "We perform singular value decomposition(SVD) https://en.wikipedia.org/wiki/Singular_value_decomposition to find the eigenvalues and eigenvectors. The eigenvalues are the frequencies tha exist in the image."
      ]
    },
    {
      "cell_type": "code",
      "metadata": {
        "id": "b_oyt4sZc4nW",
        "colab_type": "code",
        "colab": {}
      },
      "source": [
        "eigVal , eigVec = LA.eig(Lapl_1) "
      ],
      "execution_count": 0,
      "outputs": []
    },
    {
      "cell_type": "markdown",
      "metadata": {
        "id": "a9Ol-QhAdDJa",
        "colab_type": "text"
      },
      "source": [
        "## 5. Keep minimum non-zero eigenVector of normalized Laplacian\n",
        "\n",
        "The critical eigenvalue is the one with the minimum non-zero value.\n",
        "The corresponding eigenvector values(>0 or <0), will be the binary desicion to segment the image.\n",
        "The number of zero eigenvalues corresponds to the number of connected components in the graph!\n"
      ]
    },
    {
      "cell_type": "code",
      "metadata": {
        "id": "Bd6ouc8YdCAJ",
        "colab_type": "code",
        "outputId": "43b45035-b933-4050-ee1b-78d8715d899b",
        "colab": {
          "base_uri": "https://localhost:8080/",
          "height": 35
        }
      },
      "source": [
        "min_eig , pos = find_eig_critical(eigVal)  \n",
        "print(min_eig, pos)\n",
        "\n",
        "eig_vec_critical = eigVec[:,pos] "
      ],
      "execution_count": 40,
      "outputs": [
        {
          "output_type": "stream",
          "text": [
            "0.9993081285572201 3\n"
          ],
          "name": "stdout"
        }
      ]
    },
    {
      "cell_type": "markdown",
      "metadata": {
        "id": "y2kvpB7xdNth",
        "colab_type": "text"
      },
      "source": [
        "## 6. Segment Image based on critical eigenvector"
      ]
    },
    {
      "cell_type": "code",
      "metadata": {
        "id": "JLkQB_BDdMW8",
        "colab_type": "code",
        "colab": {}
      },
      "source": [
        "new_img = segment_image(f, eig_vec_critical)\n"
      ],
      "execution_count": 0,
      "outputs": []
    },
    {
      "cell_type": "markdown",
      "metadata": {
        "id": "4xkaGUczdVCD",
        "colab_type": "text"
      },
      "source": [
        "## 7. Test & Plot Results!"
      ]
    },
    {
      "cell_type": "code",
      "metadata": {
        "id": "wqbAi2EOdTi6",
        "colab_type": "code",
        "colab": {
          "base_uri": "https://localhost:8080/",
          "height": 1000
        },
        "outputId": "4438b7c6-4ffe-4bc4-ac2f-ed1ff3d79bde"
      },
      "source": [
        "fig = plt.figure()\n",
        "plt.imshow(f,cmap=plt.cm.gray)\n",
        "#fig.set_title('Rescaled Img')\n",
        "\n",
        "fig2 = plt.figure()\n",
        "plt.plot(eig_vec_critical, 'k-')\n",
        "#fig2.set_title('Minimum non zero eigVec')\n",
        "\n",
        "fig3 = plt.figure()\n",
        "plt.imshow( new_img,cmap=plt.cm.gray,interpolation='nearest'  )\n",
        "#fig3.set_title('Segmentation')\n",
        "\n",
        "fig4 = plt.figure()\n",
        "plt.imshow(W,cmap=plt.cm.gray)\n",
        "#fig4.set_title('Adjecency Matrix')\n",
        "\n",
        "plt.show()\n",
        "\n"
      ],
      "execution_count": 58,
      "outputs": [
        {
          "output_type": "display_data",
          "data": {
            "image/png": "[encoded data removed]",
            "text/plain": [
              "<Figure size 432x288 with 1 Axes>"
            ]
          },
          "metadata": {
            "tags": []
          }
        },
        {
          "output_type": "display_data",
          "data": {
            "image/png": "[encoded data removed]",
            "text/plain": [
              "<Figure size 432x288 with 1 Axes>"
            ]
          },
          "metadata": {
            "tags": []
          }
        },
        {
          "output_type": "display_data",
          "data": {
            "image/png": "[encoded data removed]",
            "text/plain": [
              "<Figure size 432x288 with 1 Axes>"
            ]
          },
          "metadata": {
            "tags": []
          }
        },
        {
          "output_type": "display_data",
          "data": {
            "image/png": "[encoded data removed]",
            "text/plain": [
              "<Figure size 432x288 with 1 Axes>"
            ]
          },
          "metadata": {
            "tags": []
          }
        }
      ]
    },
    {
      "cell_type": "markdown",
      "metadata": {
        "id": "MB7xAzbYdbFC",
        "colab_type": "text"
      },
      "source": [
        "## 8. Comparison with built-in python function/tutorial\n",
        "\n",
        "Tutorial code taken from https://scipy-lectures.org/advanced/image_processing/auto_examples/plot_spectral_clustering.html"
      ]
    },
    {
      "cell_type": "code",
      "metadata": {
        "id": "X-G563BDEu3T",
        "colab_type": "code",
        "colab": {
          "base_uri": "https://localhost:8080/",
          "height": 214
        },
        "outputId": "5266f299-dab6-4b78-bbfa-487fcf8d096d"
      },
      "source": [
        "#Parameters\n",
        "re_size = 64 # downsampling of resized rectangular image \n",
        "img = misc.face(gray=True)  # retrieve a grayscale image\n",
        "img = resize(img, (re_size, re_size))\n",
        "mask = img.astype(bool)\n",
        "graph = img_to_graph(img, mask=mask)\n",
        "# Take a decreasing function of the gradient: we take it weakly\n",
        "# dependant from the gradient the segmentation is close to a voronoi\n",
        "graph.data = np.exp(-graph.data / graph.data.std())\n",
        "labels = spectral_clustering(graph, n_clusters=2)\n",
        "label_im = -np.ones(mask.shape)\n",
        "label_im[mask] = labels\n",
        "\n",
        "plt.figure(figsize=(6, 3))\n",
        "plt.imshow(img, cmap=plt.cm.nipy_spectral, interpolation='nearest')\n",
        "plt.imshow(label_im, cmap=plt.cm.nipy_spectral, interpolation='nearest')\n",
        "plt.show()"
      ],
      "execution_count": 62,
      "outputs": [
        {
          "output_type": "display_data",
          "data": {
            "image/png": "[encoded data removed]",
            "text/plain": [
              "<Figure size 432x216 with 1 Axes>"
            ]
          },
          "metadata": {
            "tags": []
          }
        }
      ]
    },
    {
      "cell_type": "code",
      "metadata": {
        "id": "-8ADjV5EdZta",
        "colab_type": "code",
        "outputId": "f4895f1b-e4c0-4c98-8ef9-6ca21705cebb",
        "colab": {
          "base_uri": "https://localhost:8080/",
          "height": 217
        }
      },
      "source": [
        "x = np.arange(9)*3\n",
        "y = np.diag(x)+np.ones(9)\n",
        "y[0,1]=200\n",
        "print(y)\n",
        "print(np.sum(y,axis=1))\n",
        "print(np.sum(y,axis=0))"
      ],
      "execution_count": 10,
      "outputs": [
        {
          "output_type": "stream",
          "text": [
            "[[  1. 200.   1.   1.   1.   1.   1.   1.   1.]\n",
            " [  1.   4.   1.   1.   1.   1.   1.   1.   1.]\n",
            " [  1.   1.   7.   1.   1.   1.   1.   1.   1.]\n",
            " [  1.   1.   1.  10.   1.   1.   1.   1.   1.]\n",
            " [  1.   1.   1.   1.  13.   1.   1.   1.   1.]\n",
            " [  1.   1.   1.   1.   1.  16.   1.   1.   1.]\n",
            " [  1.   1.   1.   1.   1.   1.  19.   1.   1.]\n",
            " [  1.   1.   1.   1.   1.   1.   1.  22.   1.]\n",
            " [  1.   1.   1.   1.   1.   1.   1.   1.  25.]]\n",
            "[208.  12.  15.  18.  21.  24.  27.  30.  33.]\n",
            "[  9. 211.  15.  18.  21.  24.  27.  30.  33.]\n"
          ],
          "name": "stdout"
        }
      ]
    },
    {
      "cell_type": "code",
      "metadata": {
        "id": "LFd-VOFIBj5V",
        "colab_type": "code",
        "colab": {
          "base_uri": "https://localhost:8080/",
          "height": 72
        },
        "outputId": "a757d46f-55a4-482e-b649-2e7c0f1c6352"
      },
      "source": [
        "temp = W1.sum(axis=1)\n",
        "temp = np.power(temp, -0.5)\n",
        "D = (np.diag(temp))\n",
        "print(D.shape)\n",
        "print(D[500,500])\n",
        "print(D[300,200])"
      ],
      "execution_count": 14,
      "outputs": [
        {
          "output_type": "stream",
          "text": [
            "(4096, 4096)\n",
            "1.3693063937629149\n",
            "0.0\n"
          ],
          "name": "stdout"
        }
      ]
    }
  ]
}